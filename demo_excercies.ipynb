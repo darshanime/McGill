{
 "cells": [
  {
   "cell_type": "markdown",
   "metadata": {},
   "source": [
    "# Coders for hability - proposal excercise"
   ]
  },
  {
   "cell_type": "markdown",
   "metadata": {},
   "source": [
    "As a part of the propsoal, I was asked to plot a flux-time curve for XO-3b from the IRAC Data Challenge 2015. The data set contains 10 archival Spitzer observations of XO-3b during eclipse. \n",
    "\n",
    "Each of the ten observations represents a separate visit to XO-3 b and consists of 2 AORs, a 30-min pre-AOR (to accomodate short-term pointing drift) and a ~8.5 hour staring mode AOR with 2s exposure times, observed in sub-array mode with IRAC Channel 2 (4.5 microns).\n",
    "\n",
    "I have take the first visit to X0-3 b and created a demo pipeline to create the flux-time plot for the same.\n",
    "\n"
   ]
  },
  {
   "cell_type": "markdown",
   "metadata": {},
   "source": [
    "## The dataset description\n",
    "\n",
    "The data is presented in two forms: (1) tables of derived photometry and centroids, and (2) the usual FITS format Basic Calibrated Data (BCD) images. \n",
    "\n",
    "I have used the BCD images and passed thru the demo data reduction pipeline. \n",
    "Each visit has 233-exposure, 8.5 hour AOR that contains the secondary eclipse. Each exposure produced a FITS format image file, containing a cube of 64 32×32 pixel images taken 2 seconds apart with the source in the subarray field-of-view on the 4.5 μm array.\n",
    "\n",
    "## Demo data reduction pipeline\n",
    "\n",
    "The steps involved in the process are:\n",
    "* Reading the FITS files using `astropy`\n",
    "* Background subtraction for each file\n",
    "* Locating the centroid position of the center pixel\n",
    "* Apearture photometry using `photutils` with 2.25-pixel radius circular aperture and a 5 pixel background annulus"
   ]
  },
  {
   "cell_type": "markdown",
   "metadata": {},
   "source": [
    "__________"
   ]
  },
  {
   "cell_type": "markdown",
   "metadata": {},
   "source": [
    "### Getting to know the data\n"
   ]
  },
  {
   "cell_type": "markdown",
   "metadata": {},
   "source": [
    "I downloaded the IRAC dataset from the Data Challenge 2015 for the 2nd epoch. The epoch had 233 exposures and each exposure produced a FITS file containing an image cube. The image cube has 64 images stacked on top of each other, each 32x32. "
   ]
  },
  {
   "cell_type": "code",
   "execution_count": 1,
   "metadata": {
    "collapsed": false
   },
   "outputs": [
    {
     "name": "stdout",
     "output_type": "stream",
     "text": [
      "233\n",
      "bcd/SPITZER_I2_46471424_0000_0000_2_bcd.fits\n"
     ]
    }
   ],
   "source": [
    "# Finding the number of files\n",
    "file_list = glob(\"bcd/*bcd*\")\n",
    "print len(file_list)\n",
    "print file_list[0]"
   ]
  },
  {
   "cell_type": "code",
   "execution_count": 2,
   "metadata": {
    "collapsed": false
   },
   "outputs": [
    {
     "name": "stdout",
     "output_type": "stream",
     "text": [
      "Filename: bcd/SPITZER_I2_46471424_0000_0000_2_bcd.fits\n",
      "No.    Name         Type      Cards   Dimensions   Format\n",
      "0    PRIMARY     PrimaryHDU     669   (32, 32, 64)   float32   \n",
      "None\n",
      "\n",
      "(64, 32, 32)\n"
     ]
    }
   ],
   "source": [
    "# Each FITS has 64, 32by32 image files\n",
    "hdu = fits.open(file_list[0])\n",
    "print hdu.info()\n",
    "print\n",
    "print hdu[0].data.shape"
   ]
  },
  {
   "cell_type": "code",
   "execution_count": 3,
   "metadata": {
    "collapsed": false
   },
   "outputs": [
    {
     "data": {
      "text/plain": [
       "<matplotlib.image.AxesImage at 0x7f400d355f50>"
      ]
     },
     "execution_count": 113,
     "metadata": {},
     "output_type": "execute_result"
    },
    {
     "data": {
      "image/png": "[encoded data removed]",
      "text/plain": [
       "<matplotlib.figure.Figure at 0x7f400d4ee390>"
      ]
     },
     "metadata": {},
     "output_type": "display_data"
    }
   ],
   "source": [
    "#Plotting 4 images\n",
    "\n",
    "fig = plt.figure()\n",
    "\n",
    "ax1 = fig.add_subplot(221)\n",
    "ax1.imshow(hdu[0].data[0], cmap=\"hot\")\n",
    "\n",
    "ax2 = fig.add_subplot(222)\n",
    "ax2.imshow(hdu[0].data[10], cmap=\"hot\")\n",
    "\n",
    "ax3 = fig.add_subplot(223)\n",
    "ax3.imshow(hdu[0].data[20], cmap=\"hot\")\n",
    "\n",
    "ax4 = fig.add_subplot(224)\n",
    "ax4.imshow(hdu[0].data[30], cmap=\"hot\")\n"
   ]
  },
  {
   "cell_type": "markdown",
   "metadata": {},
   "source": [
    "___________\n",
    "## Demo excercise\n"
   ]
  },
  {
   "cell_type": "markdown",
   "metadata": {},
   "source": [
    "#### Imports"
   ]
  },
  {
   "cell_type": "code",
   "execution_count": 4,
   "metadata": {
    "collapsed": false
   },
   "outputs": [],
   "source": [
    "#reading the files\n",
    "from astropy.io import fits\n",
    "\n",
    "#traversing the files\n",
    "from glob import glob\n",
    "\n",
    "#general utilites\n",
    "import numpy as np\n",
    "from collections import defaultdict\n",
    "\n",
    "#for photometry\n",
    "from photutils import aperture_photometry\n",
    "from astropy.stats import sigma_clipped_stats\n",
    "from photutils.detection import detect_sources\n",
    "from scipy.ndimage import binary_dilation\n",
    "from photutils import daofind\n",
    "from photutils import CircularAperture\n",
    "from photutils import CircularAnnulus\n",
    "from astropy.table import hstack"
   ]
  },
  {
   "cell_type": "markdown",
   "metadata": {},
   "source": [
    "### Pre-processing"
   ]
  },
  {
   "cell_type": "markdown",
   "metadata": {},
   "source": [
    "#### Replacing NaNs with median"
   ]
  },
  {
   "cell_type": "code",
   "execution_count": 5,
   "metadata": {
    "collapsed": false,
    "scrolled": true
   },
   "outputs": [],
   "source": [
    "def replace_nan(hdu_data):\n",
    "    \"\"\"\n",
    "    Takes the time series of each pixel and replaces the `nan` values with the median\n",
    "    value. \n",
    "    Returns the updated hdu file. \n",
    "    \"\"\"\n",
    "    pixels = defaultdict(list)\n",
    "    for pic in hdu_data:\n",
    "        for ci, row in enumerate(pic):\n",
    "            for cj, col in enumerate(row):\n",
    "                pixels[(ci, cj)].append(col)\n",
    "\n",
    "    for key, value in pixels.iteritems():\n",
    "        med = np.median([i for i in value if not np.isnan(i)])\n",
    "        for counter,pixel in enumerate(value):\n",
    "            if np.isnan(pixel):\n",
    "                hdu_data[counter][key[0]][key[1]] = med\n",
    "    return hdu_data\n"
   ]
  },
  {
   "cell_type": "markdown",
   "metadata": {},
   "source": [
    "#### Background subtraction"
   ]
  },
  {
   "cell_type": "code",
   "execution_count": 6,
   "metadata": {
    "collapsed": false
   },
   "outputs": [],
   "source": [
    "def background_subtraction(hdu):\n",
    "    \"\"\"\n",
    "    Takes in the 63 image cube and uses sigma cliping to mask the source. \n",
    "    Pixels that are above or below a specified sigma level from the median\n",
    "    are discarded and the statistics are recalculated, repeating till convergence.\n",
    "    \n",
    "    Returns the mean, median, std of for each frame in the image cube\n",
    "    \"\"\"\n",
    "    vals={}\n",
    "    for counter, pic in enumerate(hdu):\n",
    "        mean, median, std = sigma_clipped_stats(pic, sigma=3.0, iters=15)\n",
    "        threshold = median + (std * 2.)\n",
    "        segm_img = detect_sources(pic, threshold, npixels=5)\n",
    "        mask = segm_img.data.astype(np.bool)\n",
    "        mean, median, std = sigma_clipped_stats(pic, sigma=3.0, mask=mask, iters=15)\n",
    "        vals[counter] = (mean, median, std)\n",
    "    return vals"
   ]
  },
  {
   "cell_type": "markdown",
   "metadata": {},
   "source": [
    "#### Finding the centroid of the source"
   ]
  },
  {
   "cell_type": "code",
   "execution_count": 7,
   "metadata": {
    "collapsed": false
   },
   "outputs": [],
   "source": [
    "def locate_centroid(hdu, vals):\n",
    "    \"\"\"\n",
    "    Uses the daofind algorithm to detech the sources and determine their centroids. \n",
    "    \n",
    "    Returns the mean values of x and y coordinates of the sources. These values are\n",
    "    used to find the flux later using a circular . \n",
    "    \"\"\"\n",
    "    centroids = {}\n",
    "    xcord = []\n",
    "    ycord = []\n",
    "    for counter, pic in enumerate(hdu):\n",
    "        sources = daofind(pic - vals[counter][1], fwhm=3.0, threshold=5.*vals[counter][2])\n",
    "        xcord.extend(list(sources['xcentroid'].data))\n",
    "        ycord.extend(list(sources['ycentroid'].data))\n",
    "    xmean, xmedian, xstd = sigma_clipped_stats(xcord, sigma=1, iters=25)\n",
    "    ymean, ymedian, ystd = sigma_clipped_stats(ycord, sigma=1, iters=25)\n",
    "    return (xmean, ymean)"
   ]
  },
  {
   "cell_type": "markdown",
   "metadata": {},
   "source": [
    "#### Finding the flux"
   ]
  },
  {
   "cell_type": "code",
   "execution_count": 8,
   "metadata": {
    "collapsed": false,
    "scrolled": false
   },
   "outputs": [],
   "source": [
    "def determine_flux(hdu, xcord, ycord):\n",
    "    \"\"\"\n",
    "    We use a circular annulus to find the local background level around the\n",
    "    source with a circular annulus of inside radius of 6 and outside radius of 8.\n",
    "    The mean backgound is calculated and subtracted from the sources circular\n",
    "    apperture to find the true flux\n",
    "    \n",
    "    Returns fluxes for each image cube\n",
    "    \"\"\"\n",
    "    fluxes = []\n",
    "    for counter, pic in enumerate(hdu):\n",
    "        positions = (xcord, ycord)\n",
    "        apertures = CircularAperture(positions, r=3)\n",
    "        annulus_apertures = CircularAnnulus(positions, r_in=6., r_out=8.)\n",
    "        rawflux_table = aperture_photometry(pic, apertures)\n",
    "        bkgflux_table = aperture_photometry(pic, annulus_apertures)\n",
    "        phot_table = hstack([rawflux_table, bkgflux_table], table_names=['raw', 'bkg'])\n",
    "        bkg_mean = phot_table['aperture_sum_bkg'] / annulus_apertures.area()\n",
    "        bkg_sum = bkg_mean * apertures.area()\n",
    "        flux = phot_table['aperture_sum_raw'] - bkg_sum\n",
    "        fluxes.extend(flux.data)\n",
    "    return fluxes"
   ]
  },
  {
   "cell_type": "markdown",
   "metadata": {
    "collapsed": false
   },
   "source": [
    "#### The main loop"
   ]
  },
  {
   "cell_type": "code",
   "execution_count": 9,
   "metadata": {
    "collapsed": false,
    "scrolled": true
   },
   "outputs": [
    {
     "name": "stdout",
     "output_type": "stream",
     "text": [
      "Working on... bcd/SPITZER_I2_46471424_0000_0000_2_bcd.fits\n",
      "Working on... bcd/SPITZER_I2_46471424_0001_0000_2_bcd.fits\n",
      "...\n",
      "Working on... bcd/SPITZER_I2_46471424_0232_0000_2_bcd.fits\n"
     ]
    }
   ],
   "source": [
    "# Here, we loop over all the 233 FITS files and for each file, we find the flux and add it to \n",
    "# the master flux list - all_fluxes\n",
    "all_fluxes=[]\n",
    "for fit in sorted(glob(\"bcd/*bcd*\")):\n",
    "    print \"Working on...\", fit\n",
    "    hdu = fits.open(fit)\n",
    "    hdu[0].data = hdu[0].data[1:-1]\n",
    "    _ = replace_nan(hdu[0].data)\n",
    "    red = background_subtraction(_)\n",
    "    centrs = locate_centroid(hdu[0].data, red)\n",
    "    all_fluxes.extend(determine_flux(hdu[0].data, centrs[0], centrs[1]))"
   ]
  },
  {
   "cell_type": "markdown",
   "metadata": {},
   "source": [
    "### Plotting\n"
   ]
  },
  {
   "cell_type": "code",
   "execution_count": 10,
   "metadata": {
    "collapsed": false
   },
   "outputs": [],
   "source": [
    "import matplotlib.pyplot as plt\n",
    "%matplotlib inline"
   ]
  },
  {
   "cell_type": "code",
   "execution_count": 11,
   "metadata": {
    "collapsed": false,
    "scrolled": false
   },
   "outputs": [],
   "source": [
    "#plotting the flux data\n",
    "plt.scatter(range(len(all_fluxes)), all_fluxes)"
   ]
  },
  {
   "cell_type": "code",
   "execution_count": 12,
   "metadata": {
    "collapsed": false
   },
   "outputs": [
    {
     "data": {
      "text/plain": [
       "<matplotlib.collections.PathCollection at 0x7f400cf04fd0>"
      ]
     },
     "execution_count": 12,
     "metadata": {},
     "output_type": "execute_result"
    },
    {
     "data": {
      "image/png": "[encoded data removed]",
      "text/plain": [
       "<matplotlib.figure.Figure at 0x7f400d037b50>"
      ]
     },
     "metadata": {},
     "output_type": "display_data"
    }
   ],
   "source": [
    "plt.scatter(range(len(all_fluxes)), all_fluxes, s=0.5)"
   ]
  },
  {
   "cell_type": "code",
   "execution_count": 13,
   "metadata": {
    "collapsed": false
   },
   "outputs": [],
   "source": [
    "binned=[]\n",
    "for i in range(0, len(all_fluxes), 5):\n",
    "     binned.append(np.mean(all_fluxes[i:i+5]))"
   ]
  },
  {
   "cell_type": "code",
   "execution_count": 14,
   "metadata": {
    "collapsed": false
   },
   "outputs": [
    {
     "data": {
      "text/plain": [
       "<matplotlib.collections.PathCollection at 0x7f400c47e4d0>"
      ]
     },
     "execution_count": 14,
     "metadata": {},
     "output_type": "execute_result"
    },
    {
     "data": {
      "image/png": "[encoded data removed]",
      "text/plain": [
       "<matplotlib.figure.Figure at 0x7f400cd827d0>"
      ]
     },
     "metadata": {},
     "output_type": "display_data"
    }
   ],
   "source": [
    "plt.scatter(range(len(binned)), binned, s=0.5)"
   ]
  },
  {
   "cell_type": "markdown",
   "metadata": {},
   "source": [
    "We plot the flux as obtained by the aperture photometry above. "
   ]
  }
 ],
 "metadata": {
  "kernelspec": {
   "display_name": "Python 2",
   "language": "python",
   "name": "python2"
  },
  "language_info": {
   "codemirror_mode": {
    "name": "ipython",
    "version": 2
   },
   "file_extension": ".py",
   "mimetype": "text/x-python",
   "name": "python",
   "nbconvert_exporter": "python",
   "pygments_lexer": "ipython2",
   "version": "2.7.11"
  }
 },
 "nbformat": 4,
 "nbformat_minor": 0
}
